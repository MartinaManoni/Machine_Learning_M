{
  "nbformat": 4,
  "nbformat_minor": 0,
  "metadata": {
    "colab": {
      "provenance": [],
      "collapsed_sections": [],
      "authorship_tag": "ABX9TyMwD32WAt5X0FG+FEKFPm1V"
    },
    "kernelspec": {
      "name": "python3",
      "display_name": "Python 3"
    },
    "language_info": {
      "name": "python"
    }
  },
  "cells": [
    {
      "cell_type": "markdown",
      "source": [
        "#MULTIVARIATE REGRESSION"
      ],
      "metadata": {
        "id": "exKXfkv2NGjb"
      }
    },
    {
      "cell_type": "markdown",
      "source": [
        "Import the Computer Hardware Data Set"
      ],
      "metadata": {
        "id": "etY0RXbEnYf7"
      }
    },
    {
      "cell_type": "code",
      "source": [
        "import matplotlib.pyplot as plt\n",
        "import numpy as np"
      ],
      "metadata": {
        "id": "cVxEix-OcQz1"
      },
      "execution_count": null,
      "outputs": []
    },
    {
      "cell_type": "code",
      "execution_count": null,
      "metadata": {
        "colab": {
          "base_uri": "https://localhost:8080/",
          "height": 206
        },
        "id": "3jRa-s1kahcC",
        "outputId": "646e7970-6f24-42e1-9426-132b1ff49abe"
      },
      "outputs": [
        {
          "output_type": "execute_result",
          "data": {
            "text/plain": [
              "   MYCT   MMIN   MMAX  CACH  CHMIN  CHMAX  PRP-class\n",
              "0   125    256   6000   256     16    128        198\n",
              "1    29   8000  32000    32      8     32        269\n",
              "2    29   8000  32000    32      8     32        220\n",
              "3    29   8000  32000    32      8     32        172\n",
              "4    29   8000  16000    32      8     16        132"
            ],
            "text/html": [
              "\n",
              "  <div id=\"df-ad77b6d6-8203-4b3f-9463-1f91dca7988a\">\n",
              "    <div class=\"colab-df-container\">\n",
              "      <div>\n",
              "<style scoped>\n",
              "    .dataframe tbody tr th:only-of-type {\n",
              "        vertical-align: middle;\n",
              "    }\n",
              "\n",
              "    .dataframe tbody tr th {\n",
              "        vertical-align: top;\n",
              "    }\n",
              "\n",
              "    .dataframe thead th {\n",
              "        text-align: right;\n",
              "    }\n",
              "</style>\n",
              "<table border=\"1\" class=\"dataframe\">\n",
              "  <thead>\n",
              "    <tr style=\"text-align: right;\">\n",
              "      <th></th>\n",
              "      <th>MYCT</th>\n",
              "      <th>MMIN</th>\n",
              "      <th>MMAX</th>\n",
              "      <th>CACH</th>\n",
              "      <th>CHMIN</th>\n",
              "      <th>CHMAX</th>\n",
              "      <th>PRP-class</th>\n",
              "    </tr>\n",
              "  </thead>\n",
              "  <tbody>\n",
              "    <tr>\n",
              "      <th>0</th>\n",
              "      <td>125</td>\n",
              "      <td>256</td>\n",
              "      <td>6000</td>\n",
              "      <td>256</td>\n",
              "      <td>16</td>\n",
              "      <td>128</td>\n",
              "      <td>198</td>\n",
              "    </tr>\n",
              "    <tr>\n",
              "      <th>1</th>\n",
              "      <td>29</td>\n",
              "      <td>8000</td>\n",
              "      <td>32000</td>\n",
              "      <td>32</td>\n",
              "      <td>8</td>\n",
              "      <td>32</td>\n",
              "      <td>269</td>\n",
              "    </tr>\n",
              "    <tr>\n",
              "      <th>2</th>\n",
              "      <td>29</td>\n",
              "      <td>8000</td>\n",
              "      <td>32000</td>\n",
              "      <td>32</td>\n",
              "      <td>8</td>\n",
              "      <td>32</td>\n",
              "      <td>220</td>\n",
              "    </tr>\n",
              "    <tr>\n",
              "      <th>3</th>\n",
              "      <td>29</td>\n",
              "      <td>8000</td>\n",
              "      <td>32000</td>\n",
              "      <td>32</td>\n",
              "      <td>8</td>\n",
              "      <td>32</td>\n",
              "      <td>172</td>\n",
              "    </tr>\n",
              "    <tr>\n",
              "      <th>4</th>\n",
              "      <td>29</td>\n",
              "      <td>8000</td>\n",
              "      <td>16000</td>\n",
              "      <td>32</td>\n",
              "      <td>8</td>\n",
              "      <td>16</td>\n",
              "      <td>132</td>\n",
              "    </tr>\n",
              "  </tbody>\n",
              "</table>\n",
              "</div>\n",
              "      <button class=\"colab-df-convert\" onclick=\"convertToInteractive('df-ad77b6d6-8203-4b3f-9463-1f91dca7988a')\"\n",
              "              title=\"Convert this dataframe to an interactive table.\"\n",
              "              style=\"display:none;\">\n",
              "        \n",
              "  <svg xmlns=\"http://www.w3.org/2000/svg\" height=\"24px\"viewBox=\"0 0 24 24\"\n",
              "       width=\"24px\">\n",
              "    <path d=\"M0 0h24v24H0V0z\" fill=\"none\"/>\n",
              "    <path d=\"M18.56 5.44l.94 2.06.94-2.06 2.06-.94-2.06-.94-.94-2.06-.94 2.06-2.06.94zm-11 1L8.5 8.5l.94-2.06 2.06-.94-2.06-.94L8.5 2.5l-.94 2.06-2.06.94zm10 10l.94 2.06.94-2.06 2.06-.94-2.06-.94-.94-2.06-.94 2.06-2.06.94z\"/><path d=\"M17.41 7.96l-1.37-1.37c-.4-.4-.92-.59-1.43-.59-.52 0-1.04.2-1.43.59L10.3 9.45l-7.72 7.72c-.78.78-.78 2.05 0 2.83L4 21.41c.39.39.9.59 1.41.59.51 0 1.02-.2 1.41-.59l7.78-7.78 2.81-2.81c.8-.78.8-2.07 0-2.86zM5.41 20L4 18.59l7.72-7.72 1.47 1.35L5.41 20z\"/>\n",
              "  </svg>\n",
              "      </button>\n",
              "      \n",
              "  <style>\n",
              "    .colab-df-container {\n",
              "      display:flex;\n",
              "      flex-wrap:wrap;\n",
              "      gap: 12px;\n",
              "    }\n",
              "\n",
              "    .colab-df-convert {\n",
              "      background-color: #E8F0FE;\n",
              "      border: none;\n",
              "      border-radius: 50%;\n",
              "      cursor: pointer;\n",
              "      display: none;\n",
              "      fill: #1967D2;\n",
              "      height: 32px;\n",
              "      padding: 0 0 0 0;\n",
              "      width: 32px;\n",
              "    }\n",
              "\n",
              "    .colab-df-convert:hover {\n",
              "      background-color: #E2EBFA;\n",
              "      box-shadow: 0px 1px 2px rgba(60, 64, 67, 0.3), 0px 1px 3px 1px rgba(60, 64, 67, 0.15);\n",
              "      fill: #174EA6;\n",
              "    }\n",
              "\n",
              "    [theme=dark] .colab-df-convert {\n",
              "      background-color: #3B4455;\n",
              "      fill: #D2E3FC;\n",
              "    }\n",
              "\n",
              "    [theme=dark] .colab-df-convert:hover {\n",
              "      background-color: #434B5C;\n",
              "      box-shadow: 0px 1px 3px 1px rgba(0, 0, 0, 0.15);\n",
              "      filter: drop-shadow(0px 1px 2px rgba(0, 0, 0, 0.3));\n",
              "      fill: #FFFFFF;\n",
              "    }\n",
              "  </style>\n",
              "\n",
              "      <script>\n",
              "        const buttonEl =\n",
              "          document.querySelector('#df-ad77b6d6-8203-4b3f-9463-1f91dca7988a button.colab-df-convert');\n",
              "        buttonEl.style.display =\n",
              "          google.colab.kernel.accessAllowed ? 'block' : 'none';\n",
              "\n",
              "        async function convertToInteractive(key) {\n",
              "          const element = document.querySelector('#df-ad77b6d6-8203-4b3f-9463-1f91dca7988a');\n",
              "          const dataTable =\n",
              "            await google.colab.kernel.invokeFunction('convertToInteractive',\n",
              "                                                     [key], {});\n",
              "          if (!dataTable) return;\n",
              "\n",
              "          const docLinkHtml = 'Like what you see? Visit the ' +\n",
              "            '<a target=\"_blank\" href=https://colab.research.google.com/notebooks/data_table.ipynb>data table notebook</a>'\n",
              "            + ' to learn more about interactive tables.';\n",
              "          element.innerHTML = '';\n",
              "          dataTable['output_type'] = 'display_data';\n",
              "          await google.colab.output.renderOutput(dataTable, element);\n",
              "          const docLink = document.createElement('div');\n",
              "          docLink.innerHTML = docLinkHtml;\n",
              "          element.appendChild(docLink);\n",
              "        }\n",
              "      </script>\n",
              "    </div>\n",
              "  </div>\n",
              "  "
            ]
          },
          "metadata": {},
          "execution_count": 2
        }
      ],
      "source": [
        "import pandas as pd\n",
        "data = pd.read_csv('https://archive.ics.uci.edu/ml/machine-learning-databases/cpu-performance/machine.data', header=None)\n",
        "data.columns = ['Vendor Name', 'Model Name', 'MYCT', ' MMIN', ' MMAX', 'CACH','CHMIN','CHMAX', 'PRP-class','ERP']\n",
        "data = data.drop(['Vendor Name', 'Model Name', 'ERP'], axis=1)\n",
        "data.head()"
      ]
    },
    {
      "cell_type": "markdown",
      "source": [
        "Separating features from the target variable"
      ],
      "metadata": {
        "id": "YC__jyaCqbYa"
      }
    },
    {
      "cell_type": "code",
      "source": [
        "x_data = data[[ 'MYCT', ' MMIN', ' MMAX', 'CACH','CHMIN','CHMAX']]\n",
        "y_data = data['PRP-class']"
      ],
      "metadata": {
        "id": "iSJnDydIqJvS"
      },
      "execution_count": null,
      "outputs": []
    },
    {
      "cell_type": "markdown",
      "source": [
        "The goal is to predict the performance index (PRP) based on the CPU configuration"
      ],
      "metadata": {
        "id": "cnwfMw6Imza4"
      }
    },
    {
      "cell_type": "markdown",
      "source": [
        "### SVM and GP MULTIVARIATE REGRESSION"
      ],
      "metadata": {
        "id": "eayCp2eZkxAS"
      }
    },
    {
      "cell_type": "code",
      "source": [
        "from sklearn.model_selection import train_test_split, KFold\n",
        "from sklearn import svm\n",
        "from sklearn.gaussian_process.kernels import RBF\n",
        "from sklearn.gaussian_process import GaussianProcessRegressor\n",
        "from sklearn.metrics import mean_squared_error\n",
        "import statistics\n",
        "from math import sqrt\n"
      ],
      "metadata": {
        "id": "BXb3qsg3kwQ7"
      },
      "execution_count": null,
      "outputs": []
    },
    {
      "cell_type": "code",
      "source": [
        "MSE_svm_train_vec=[]\n",
        "MSE_svm_val_vec=[]\n",
        "MSE_GP_train_vec=[]\n",
        "MSE_GP_val_vec=[]\n",
        "\n",
        "kf = KFold(n_splits=10, shuffle=True)\n",
        "\n",
        "# Iterating through each of the folds in K-Fold\n",
        "for train_index, val_index in kf.split(y_data):\n",
        "\n",
        "    #print(\"TRAIN:\", train_index, \"VALIDATION:\", val_index)\n",
        "  \n",
        "    # Splitting the training set from the validation set for this specific fold\n",
        "    X_train, X_val = x_data.iloc[train_index, :], x_data.iloc[val_index, :]\n",
        "    y_train, y_val = y_data.iloc[train_index], y_data.iloc[val_index]\n",
        "\n",
        "    #SVR TRAINING\n",
        "    regr = svm.SVR(kernel='rbf', C=1).fit(X_train, y_train)\n",
        "    #print(X_train)\n",
        "    #GP TRAINING\n",
        "   # kernel = 1 * RBF(length_scale=1.0, length_scale_bounds=(1e-2, 1e2)) #length_scale_bounds=(1e-2, 1e2)\n",
        "    gpr = GaussianProcessRegressor(kernel=None, random_state=0).fit(X_train, y_train)\n",
        "\n",
        "    #SVR PREDICTION\n",
        "    svm_pred_train=regr.predict(X_train) #returns y_pred\n",
        "    svm_pred_val=regr.predict(X_val)\n",
        "\n",
        "    #GP PREDICTION\n",
        "    mean_prediction_train, std_prediction_train = gpr.predict(X_train, return_std=True)\n",
        "    mean_prediction_val, std_prediction_val = gpr.predict(X_val, return_std=True)\n",
        "\n",
        "    #MSE SVM\n",
        "    MSE_svm_train=mean_squared_error(y_train, svm_pred_train)\n",
        "    MSE_svm_train_vec.append( sqrt(MSE_svm_train))\n",
        "\n",
        "    MSE_svm_val=mean_squared_error(y_val, svm_pred_val)\n",
        "    MSE_svm_val_vec.append(sqrt(MSE_svm_val))\n",
        "\n",
        "    #MSE GP\n",
        "    MSE_GP_train=mean_squared_error(y_train, mean_prediction_train,)\n",
        "    MSE_GP_train_vec.append(sqrt(MSE_GP_train))\n",
        "\n",
        "    MSE_GP_val=mean_squared_error(y_val, mean_prediction_val)\n",
        "    MSE_GP_val_vec.append(sqrt(MSE_GP_val))\n",
        "\n",
        "\n",
        "MEAN_MSE_svm_train = statistics.mean(MSE_svm_train_vec)\n",
        "MEAN_MSE_svm_val = statistics.mean(MSE_svm_val_vec)\n",
        "\n",
        "MEAN_MSE_GP_train = statistics.mean(MSE_GP_train_vec)\n",
        "MEAN_MSE_GP_val = statistics.mean(MSE_GP_val_vec)\n",
        "print('SVM REGRESSION')\n",
        "print('RMSE train:',MEAN_MSE_svm_train) #quanto mediamente i punti si discostano dalla retta di regressione\n",
        "print('RMSE validation:',MEAN_MSE_svm_val)\n",
        "print('-----------------------------------')\n",
        "print('GP REGRESSION')\n",
        "print('RMSE train:',MEAN_MSE_GP_train)\n",
        "print('RMSE validation:',MEAN_MSE_GP_val)"
      ],
      "metadata": {
        "colab": {
          "base_uri": "https://localhost:8080/"
        },
        "id": "bKrmu3ellcQK",
        "outputId": "1734227d-9a1a-4f3f-d785-755888e3851e"
      },
      "execution_count": null,
      "outputs": [
        {
          "output_type": "stream",
          "name": "stdout",
          "text": [
            "SVM REGRESSION\n",
            "RMSE train: 157.89962455065668\n",
            "RMSE validation: 137.5320143938734\n",
            "-----------------------------------\n",
            "GP REGRESSION\n",
            "RMSE train: 9.352379173043268\n",
            "RMSE validation: 161.5531208421878\n"
          ]
        }
      ]
    }
  ]
}